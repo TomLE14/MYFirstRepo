{
 "cells": [
  {
   "cell_type": "code",
   "execution_count": 3,
   "id": "9a7fec4d-74ba-4114-a83e-683d6922d6f3",
   "metadata": {},
   "outputs": [
    {
     "name": "stdout",
     "output_type": "stream",
     "text": [
      "Hello, world!\n"
     ]
    }
   ],
   "source": [
    "print(\"Hello, world!\")"
   ]
  },
  {
   "cell_type": "markdown",
   "id": "a2b8630b-5440-4232-9718-1ce6d642f909",
   "metadata": {},
   "source": [
    "# My First Markdown Heading"
   ]
  },
  {
   "cell_type": "markdown",
   "id": "7a685d4d-2a72-4601-99d3-021ad709bf5e",
   "metadata": {},
   "source": [
    "## My Second Markdown Heading"
   ]
  },
  {
   "cell_type": "markdown",
   "id": "1686ebc3-c445-4680-9453-d92059021392",
   "metadata": {},
   "source": [
    "This is some **bold** text"
   ]
  },
  {
   "cell_type": "markdown",
   "id": "9464b751-d444-46c9-aa4f-c4261b902f2f",
   "metadata": {},
   "source": [
    "1. First item\n",
    "2. Second item\n",
    "3. Third item"
   ]
  },
  {
   "cell_type": "code",
   "execution_count": 5,
   "id": "da9a223a-4ea3-4f93-ab09-eb6117a36191",
   "metadata": {},
   "outputs": [],
   "source": [
    "my_var = 5"
   ]
  },
  {
   "cell_type": "code",
   "execution_count": 7,
   "id": "9c1c0b99-fb97-4645-ab5c-fcf303ea68a3",
   "metadata": {},
   "outputs": [
    {
     "name": "stdout",
     "output_type": "stream",
     "text": [
      "10\n"
     ]
    }
   ],
   "source": [
    "result = my_var * 2\n",
    "print(result)"
   ]
  },
  {
   "cell_type": "code",
   "execution_count": null,
   "id": "2b6c1fdc-f047-4037-bf18-302e20dd73fe",
   "metadata": {},
   "outputs": [],
   "source": []
  }
 ],
 "metadata": {
  "kernelspec": {
   "display_name": "Python 3 (ipykernel)",
   "language": "python",
   "name": "python3"
  },
  "language_info": {
   "codemirror_mode": {
    "name": "ipython",
    "version": 3
   },
   "file_extension": ".py",
   "mimetype": "text/x-python",
   "name": "python",
   "nbconvert_exporter": "python",
   "pygments_lexer": "ipython3",
   "version": "3.10.9"
  }
 },
 "nbformat": 4,
 "nbformat_minor": 5
}
